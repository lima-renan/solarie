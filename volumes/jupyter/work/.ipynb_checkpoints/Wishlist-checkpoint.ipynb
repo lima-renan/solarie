{
 "cells": [
  {
   "cell_type": "code",
   "execution_count": 5,
   "id": "9a19d707",
   "metadata": {},
   "outputs": [
    {
     "name": "stdout",
     "output_type": "stream",
     "text": [
      "[['trino-coordinator', 'http://172.31.0.5:8080', '403', True, 'active']]\n"
     ]
    }
   ],
   "source": [
    "import trino\n",
    "conn = trino.dbapi.connect(\n",
    "    host='trino-coordinator',\n",
    "    port=8080,\n",
    "    user='poc',\n",
    "    catalog='postgresql',\n",
    ")\n",
    "cur = conn.cursor()\n",
    "cur.execute('SELECT * FROM system.runtime.nodes')\n",
    "print(cur.fetchall())"
   ]
  },
  {
   "cell_type": "code",
   "execution_count": 6,
   "id": "21608436",
   "metadata": {},
   "outputs": [
    {
     "name": "stdout",
     "output_type": "stream",
     "text": [
      "[['postgresql'], ['system']]\n"
     ]
    }
   ],
   "source": [
    "cur.execute('SHOW CATALOGS')\n",
    "rows = cur.fetchall()\n",
    "print(rows)"
   ]
  },
  {
   "cell_type": "code",
   "execution_count": 7,
   "id": "b7c288d1",
   "metadata": {},
   "outputs": [
    {
     "name": "stdout",
     "output_type": "stream",
     "text": [
      "[['information_schema'], ['pg_catalog'], ['public']]\n"
     ]
    }
   ],
   "source": [
    "cur.execute('SHOW SCHEMAS FROM postgresql')\n",
    "rows = cur.fetchall()\n",
    "print(rows)"
   ]
  },
  {
   "cell_type": "code",
   "execution_count": 8,
   "id": "fa93af66-63e8-47fc-b208-b2b5798b8416",
   "metadata": {},
   "outputs": [
    {
     "name": "stdout",
     "output_type": "stream",
     "text": [
      "[['spotify_edges'], ['spotify_nodes']]\n"
     ]
    }
   ],
   "source": [
    "cur.execute('SHOW TABLES FROM postgresql.public')\n",
    "rows = cur.fetchall()\n",
    "print(rows)"
   ]
  },
  {
   "cell_type": "code",
   "execution_count": 9,
   "id": "309c5782-48c6-409a-95aa-7bf5fbf595b6",
   "metadata": {},
   "outputs": [
    {
     "name": "stdout",
     "output_type": "stream",
     "text": [
      "[[300386]]\n"
     ]
    }
   ],
   "source": [
    "cur.execute('SELECT COUNT(1) FROM postgresql.public.spotify_edges')\n",
    "rows = cur.fetchall()\n",
    "print(rows)"
   ]
  },
  {
   "cell_type": "code",
   "execution_count": 10,
   "id": "93e216b8-3e6d-438f-a9dc-4f15a1e6fda8",
   "metadata": {},
   "outputs": [
    {
     "name": "stdout",
     "output_type": "stream",
     "text": [
      "[['76M2Ekj8bG8W7X2nbx2CpF', '7sfl4Xt5KmfyDs2T3SVSMK'], ['0hk4xVujcyOr6USD95wcWb', '7Do8se3ZoaVqUt3woqqSrD'], ['38jpuy3yt3QIxQ8Fn1HTeJ', '4csQIMQm6vI2A2SCVDuM2z'], ['6PvcxssrQ0QaJVaBWHD07l', '6UCQYrcJ6wab6gnQ89OJFh'], ['2R1QrQqWuw3IjoP5dXRFjt', '4mk1ScvOUkuQzzCZpT6bc0'], ['0k70gnDBLPirCltbTzoxuM', '5FK3qokBQYxr7ZLkr8GVFn'], ['1bAftSH8umNcGZ0uyV7LMg', '1vqR17Iv8VFdzure1TAXEq'], ['21ey6s5hEcTcVKDrF5MWby', '7uMh23xWiuR7zsNkuNcm2G'], ['1mYsTxnqsietFxj1OgoGbG', '7snhzmuew8iLEDxMIhOU1P'], ['3GBBxBdoolb0B5YizZq9bF', '3yayE6rrovGcNkMManKwVf']]\n"
     ]
    }
   ],
   "source": [
    "cur.execute('SELECT * FROM postgresql.public.spotify_edges LIMIT 10')\n",
    "rows = cur.fetchall()\n",
    "print(rows)"
   ]
  },
  {
   "cell_type": "code",
   "execution_count": 11,
   "id": "e812f4a0-617b-40e7-b67b-ffc3178ad0c7",
   "metadata": {},
   "outputs": [
    {
     "name": "stdout",
     "output_type": "stream",
     "text": [
      "[[156422]]\n"
     ]
    }
   ],
   "source": [
    "cur.execute('SELECT COUNT(1) FROM postgresql.public.spotify_nodes')\n",
    "rows = cur.fetchall()\n",
    "print(rows)"
   ]
  },
  {
   "cell_type": "code",
   "execution_count": 12,
   "id": "6c4d2f55-bfb5-4b24-bf69-80b9e3150fc2",
   "metadata": {},
   "outputs": [
    {
     "name": "stdout",
     "output_type": "stream",
     "text": [
      "[['48WvrUGoijadXXCsGocwM4', 'Byklubben', 24], ['4lDiJcOJ2GLCK6p9q5BgfK', 'Kontra K', 72], ['652XIvIBNGg3C0KIGEJWit', 'Maxim', 36], ['3dXC1YPbnQPsfHPVkm1ipj', 'Christopher Martin', 52], ['74terC9ol9zMo8rfzhSOiG', 'Jakob Hellman', 39], ['0FQMb3mVrAKlyU4H5mQOJh', 'Madh', 19], ['71BhXa24Zf5zcikUb00l2N', 'Juice', 37], ['3TG1RXLaEhHz5SIPMWahit', 'Nehuda', 31], ['7MFvm8pwjLdmVBZddGNiQH', 'VovaZiLvova', 43], ['5I82NM6jN4Y267iHwVeNR9', 'Nata Record', 12]]\n"
     ]
    }
   ],
   "source": [
    "cur.execute('SELECT * FROM postgresql.public.spotify_nodes LIMIT 10')\n",
    "rows = cur.fetchall()\n",
    "print(rows)"
   ]
  }
 ],
 "metadata": {
  "kernelspec": {
   "display_name": "Python 3 (ipykernel)",
   "language": "python",
   "name": "python3"
  },
  "language_info": {
   "codemirror_mode": {
    "name": "ipython",
    "version": 3
   },
   "file_extension": ".py",
   "mimetype": "text/x-python",
   "name": "python",
   "nbconvert_exporter": "python",
   "pygments_lexer": "ipython3",
   "version": "3.10.8"
  }
 },
 "nbformat": 4,
 "nbformat_minor": 5
}
