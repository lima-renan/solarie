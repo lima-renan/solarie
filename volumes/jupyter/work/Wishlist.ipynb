{
 "cells": [
  {
   "cell_type": "code",
   "execution_count": 1,
   "id": "9a19d707",
   "metadata": {},
   "outputs": [
    {
     "name": "stdout",
     "output_type": "stream",
     "text": [
      "[['trino-coordinator', 'http://172.21.0.18:8080', '423', True, 'active']]\n"
     ]
    }
   ],
   "source": [
    "import trino\n",
    "conn = trino.dbapi.connect(\n",
    "    host='trino-coordinator',\n",
    "    port=8080,\n",
    "    user='poc',\n",
    "    catalog='postgresql',\n",
    ")\n",
    "cur = conn.cursor()\n",
    "cur.execute('SELECT * FROM system.runtime.nodes')\n",
    "print(cur.fetchall())"
   ]
  },
  {
   "cell_type": "code",
   "execution_count": 2,
   "id": "21608436",
   "metadata": {},
   "outputs": [
    {
     "name": "stdout",
     "output_type": "stream",
     "text": [
      "[['minio'], ['postgresql'], ['system']]\n"
     ]
    }
   ],
   "source": [
    "cur.execute('SHOW CATALOGS')\n",
    "rows = cur.fetchall()\n",
    "print(rows)"
   ]
  },
  {
   "cell_type": "code",
   "execution_count": 3,
   "id": "b7c288d1",
   "metadata": {},
   "outputs": [
    {
     "name": "stdout",
     "output_type": "stream",
     "text": [
      "[['information_schema'], ['pg_catalog'], ['public']]\n"
     ]
    }
   ],
   "source": [
    "cur.execute('SHOW SCHEMAS FROM postgresql')\n",
    "rows = cur.fetchall()\n",
    "print(rows)"
   ]
  },
  {
   "cell_type": "code",
   "execution_count": 4,
   "id": "fa93af66-63e8-47fc-b208-b2b5798b8416",
   "metadata": {},
   "outputs": [
    {
     "name": "stdout",
     "output_type": "stream",
     "text": [
      "[['dadosdawishlist']]\n"
     ]
    }
   ],
   "source": [
    "cur.execute('SHOW TABLES FROM postgresql.public')\n",
    "rows = cur.fetchall()\n",
    "print(rows)"
   ]
  },
  {
   "cell_type": "code",
   "execution_count": 5,
   "id": "309c5782-48c6-409a-95aa-7bf5fbf595b6",
   "metadata": {},
   "outputs": [
    {
     "name": "stdout",
     "output_type": "stream",
     "text": [
      "[[10]]\n"
     ]
    }
   ],
   "source": [
    "cur.execute('SELECT COUNT(1) FROM postgresql.public.dadosdawishlist')\n",
    "rows = cur.fetchall()\n",
    "print(rows)"
   ]
  },
  {
   "cell_type": "code",
   "execution_count": 6,
   "id": "93e216b8-3e6d-438f-a9dc-4f15a1e6fda8",
   "metadata": {},
   "outputs": [
    {
     "name": "stderr",
     "output_type": "stream",
     "text": [
      "IOPub data rate exceeded.\n",
      "The Jupyter server will temporarily stop sending output\n",
      "to the client in order to avoid crashing it.\n",
      "To change this limit, set the config variable\n",
      "`--ServerApp.iopub_data_rate_limit`.\n",
      "\n",
      "Current values:\n",
      "ServerApp.iopub_data_rate_limit=1000000.0 (bytes/sec)\n",
      "ServerApp.rate_limit_window=3.0 (secs)\n",
      "\n"
     ]
    }
   ],
   "source": [
    "cur.execute('SELECT * FROM postgresql.public.dadosdawishlist LIMIT 10')\n",
    "rows = cur.fetchall()\n",
    "print(rows)"
   ]
  }
 ],
 "metadata": {
  "kernelspec": {
   "display_name": "Python 3 (ipykernel)",
   "language": "python",
   "name": "python3"
  },
  "language_info": {
   "codemirror_mode": {
    "name": "ipython",
    "version": 3
   },
   "file_extension": ".py",
   "mimetype": "text/x-python",
   "name": "python",
   "nbconvert_exporter": "python",
   "pygments_lexer": "ipython3",
   "version": "3.11.4"
  }
 },
 "nbformat": 4,
 "nbformat_minor": 5
}
